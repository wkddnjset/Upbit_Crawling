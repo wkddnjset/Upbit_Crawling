{
 "cells": [
  {
   "cell_type": "code",
   "execution_count": 4,
   "metadata": {},
   "outputs": [],
   "source": [
    "import time\n",
    "import datetime\n",
    "import requests\n",
    "from bs4 import BeautifulSoup\n",
    "from selenium import webdriver\n",
    "import xlsxwriter\n",
    "import csv"
   ]
  },
  {
   "cell_type": "code",
   "execution_count": 35,
   "metadata": {},
   "outputs": [
    {
     "name": "stdout",
     "output_type": "stream",
     "text": [
      "2017-12-20\n",
      "2017-12-19\n"
     ]
    }
   ],
   "source": [
    "ts = time.time()\n",
    "realtime = datetime.datetime.fromtimestamp(ts).strftime('%Y-%m-%d')\n",
    "savedate = (datetime.date.today() - datetime.timedelta(1)).strftime('%Y-%m-%d')\n",
    "savetime = datetime.datetime.fromtimestamp(ts).strftime('%H:%M:%S')\n",
    "print(realtime)\n",
    "print(savedate)"
   ]
  },
  {
   "cell_type": "code",
   "execution_count": 36,
   "metadata": {},
   "outputs": [],
   "source": [
    "source = requests.get('https://coinmarketcap.com/exchanges/volume/24-hour/all/').text\n",
    "html = BeautifulSoup(source, 'html.parser')\n",
    "links = html.select('.volume-header a')\n",
    "url_list = []\n",
    "for link in links:\n",
    "    url = 'https://coinmarketcap.com/exchanges/'+link.text\n",
    "    url_list.append(url)"
   ]
  },
  {
   "cell_type": "code",
   "execution_count": 50,
   "metadata": {},
   "outputs": [
    {
     "name": "stdout",
     "output_type": "stream",
     "text": [
      "448\n",
      "84\n",
      "1897\n",
      "1456\n",
      "7\n",
      "693\n",
      "70\n",
      "749\n",
      "2527\n",
      "98\n",
      "504\n",
      "7\n",
      "315\n",
      "63\n",
      "42\n",
      "28\n",
      "21\n",
      "28\n",
      "238\n",
      "0\n",
      "315\n",
      "56\n",
      "112\n",
      "126\n",
      "273\n",
      "224\n",
      "0\n",
      "308\n",
      "21\n",
      "133\n",
      "49\n",
      "7\n",
      "0\n",
      "0\n",
      "0\n",
      "147\n",
      "4067\n",
      "1372\n",
      "35\n",
      "7931\n"
     ]
    },
    {
     "ename": "KeyboardInterrupt",
     "evalue": "",
     "output_type": "error",
     "traceback": [
      "\u001b[1;31m---------------------------------------------------------------------------\u001b[0m",
      "\u001b[1;31mKeyboardInterrupt\u001b[0m                         Traceback (most recent call last)",
      "\u001b[1;32m<ipython-input-50-210759e39ce9>\u001b[0m in \u001b[0;36m<module>\u001b[1;34m()\u001b[0m\n\u001b[0;32m     16\u001b[0m     \u001b[1;32mfor\u001b[0m \u001b[0mnum\u001b[0m \u001b[1;32min\u001b[0m \u001b[0mrange\u001b[0m\u001b[1;33m(\u001b[0m\u001b[0mlen\u001b[0m\u001b[1;33m(\u001b[0m\u001b[0mall_\u001b[0m\u001b[1;33m)\u001b[0m\u001b[1;33m)\u001b[0m\u001b[1;33m:\u001b[0m\u001b[1;33m\u001b[0m\u001b[0m\n\u001b[0;32m     17\u001b[0m         \u001b[1;32mif\u001b[0m \u001b[0mnum\u001b[0m \u001b[1;33m%\u001b[0m \u001b[1;36m7\u001b[0m \u001b[1;33m==\u001b[0m \u001b[1;36m1\u001b[0m\u001b[1;33m:\u001b[0m\u001b[1;33m\u001b[0m\u001b[0m\n\u001b[1;32m---> 18\u001b[1;33m             \u001b[0mname\u001b[0m \u001b[1;33m=\u001b[0m \u001b[0msoup\u001b[0m\u001b[1;33m.\u001b[0m\u001b[0mselect\u001b[0m\u001b[1;33m(\u001b[0m\u001b[1;34m'h1.text-large'\u001b[0m\u001b[1;33m)\u001b[0m\u001b[1;33m\u001b[0m\u001b[0m\n\u001b[0m\u001b[0;32m     19\u001b[0m             \u001b[0mcount_id\u001b[0m \u001b[1;33m=\u001b[0m \u001b[0mcount_id\u001b[0m \u001b[1;33m+\u001b[0m \u001b[1;36m1\u001b[0m\u001b[1;33m\u001b[0m\u001b[0m\n\u001b[0;32m     20\u001b[0m             \u001b[0mid_list\u001b[0m\u001b[1;33m.\u001b[0m\u001b[0mappend\u001b[0m\u001b[1;33m(\u001b[0m\u001b[0mint\u001b[0m\u001b[1;33m(\u001b[0m\u001b[0mcount_id\u001b[0m\u001b[1;33m)\u001b[0m\u001b[1;33m)\u001b[0m\u001b[1;33m\u001b[0m\u001b[0m\n",
      "\u001b[1;32mc:\\users\\wk647\\appdata\\local\\programs\\python\\python36-32\\lib\\site-packages\\bs4\\element.py\u001b[0m in \u001b[0;36mselect\u001b[1;34m(self, selector, _candidate_generator, limit)\u001b[0m\n\u001b[0;32m   1532\u001b[0m                 \u001b[1;32mfor\u001b[0m \u001b[0mcandidate\u001b[0m \u001b[1;32min\u001b[0m \u001b[0m_use_candidate_generator\u001b[0m\u001b[1;33m(\u001b[0m\u001b[0mtag\u001b[0m\u001b[1;33m)\u001b[0m\u001b[1;33m:\u001b[0m\u001b[1;33m\u001b[0m\u001b[0m\n\u001b[0;32m   1533\u001b[0m                     \u001b[1;32mif\u001b[0m \u001b[1;32mnot\u001b[0m \u001b[0misinstance\u001b[0m\u001b[1;33m(\u001b[0m\u001b[0mcandidate\u001b[0m\u001b[1;33m,\u001b[0m \u001b[0mTag\u001b[0m\u001b[1;33m)\u001b[0m\u001b[1;33m:\u001b[0m\u001b[1;33m\u001b[0m\u001b[0m\n\u001b[1;32m-> 1534\u001b[1;33m                         \u001b[1;32mcontinue\u001b[0m\u001b[1;33m\u001b[0m\u001b[0m\n\u001b[0m\u001b[0;32m   1535\u001b[0m                     \u001b[1;32mif\u001b[0m \u001b[0mtag_name\u001b[0m \u001b[1;32mand\u001b[0m \u001b[0mcandidate\u001b[0m\u001b[1;33m.\u001b[0m\u001b[0mname\u001b[0m \u001b[1;33m!=\u001b[0m \u001b[0mtag_name\u001b[0m\u001b[1;33m:\u001b[0m\u001b[1;33m\u001b[0m\u001b[0m\n\u001b[0;32m   1536\u001b[0m                         \u001b[1;32mcontinue\u001b[0m\u001b[1;33m\u001b[0m\u001b[0m\n",
      "\u001b[1;31mKeyboardInterrupt\u001b[0m: "
     ]
    }
   ],
   "source": [
    "id_list = []\n",
    "name_list = []\n",
    "currency_list = []\n",
    "base_list = []\n",
    "counter_list = []\n",
    "vol_dal_list = []\n",
    "price_list = []\n",
    "vol_per_list = []\n",
    "date_list = []\n",
    "count_id = 0\n",
    "for url in url_list:\n",
    "    source = requests.get(url).text\n",
    "    soup = BeautifulSoup(source, 'html.parser')\n",
    "    all_ = soup.select('table td')\n",
    "    print(len(all_))\n",
    "    for num in range(len(all_)):\n",
    "        if num % 7 == 1:\n",
    "            name = soup.select('h1.text-large')\n",
    "            count_id = count_id + 1\n",
    "            id_list.append(int(count_id))\n",
    "            for i in name:\n",
    "                name_list.append(i.text)\n",
    "            date_list.append(realtime)\n",
    "        elif num % 7 == 2:\n",
    "            currency = soup.select('table tr td:nth-of-type('+str(num)+')')\n",
    "            for i in currency:\n",
    "                a = i.text\n",
    "                currency_list.append(a)\n",
    "        elif num % 7 == 3:\n",
    "            base_counter = soup.select('table tr td:nth-of-type('+str(num)+')')\n",
    "            for i in base_counter:\n",
    "                a = i.text\n",
    "                base_list.append(a.split('/')[0])\n",
    "                counter_list.append(a.split('/')[1])\n",
    "        elif num % 7 == 4:\n",
    "            volume_dal = soup.select('table tr td:nth-of-type('+str(num)+')')\n",
    "            for i in volume_dal:\n",
    "                text = i.text\n",
    "                vol_dal_list.append(text.replace('\\n','').replace('$','').replace(' ',''))\n",
    "        elif num % 7 == 5:\n",
    "            price = soup.select('table tr td:nth-of-type('+str(num)+')')\n",
    "            for i in price:\n",
    "                text = i.text\n",
    "                price_list.append(text.replace('\\n','').replace('$','').replace(' ',''))\n",
    "        elif num % 7 == 6:\n",
    "            volume_pre = soup.select('table tr td:nth-of-type('+str(num)+')')\n",
    "            for i in volume_pre:\n",
    "                vol_per_list.append(i.text)"
   ]
  },
  {
   "cell_type": "code",
   "execution_count": 51,
   "metadata": {},
   "outputs": [
    {
     "name": "stdout",
     "output_type": "stream",
     "text": [
      "3460\n",
      "3460\n",
      "3460\n",
      "3460\n",
      "3460\n",
      "3460\n",
      "3460\n",
      "3460\n",
      "3460\n"
     ]
    }
   ],
   "source": [
    "print(len(id_list))\n",
    "print(len(name_list))\n",
    "print(len(currency_list))\n",
    "print(len(base_list))\n",
    "print(len(counter_list))\n",
    "print(len(vol_dal_list))\n",
    "print(len(price_list))\n",
    "print(len(vol_per_list))\n",
    "print(len(date_list))"
   ]
  },
  {
   "cell_type": "code",
   "execution_count": null,
   "metadata": {},
   "outputs": [],
   "source": []
  }
 ],
 "metadata": {
  "kernelspec": {
   "display_name": "Python 3",
   "language": "python",
   "name": "python3"
  },
  "language_info": {
   "codemirror_mode": {
    "name": "ipython",
    "version": 3
   },
   "file_extension": ".py",
   "mimetype": "text/x-python",
   "name": "python",
   "nbconvert_exporter": "python",
   "pygments_lexer": "ipython3",
   "version": "3.6.3"
  }
 },
 "nbformat": 4,
 "nbformat_minor": 2
}
