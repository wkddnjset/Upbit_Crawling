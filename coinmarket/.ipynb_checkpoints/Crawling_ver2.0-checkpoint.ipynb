{
 "cells": [
  {
   "cell_type": "code",
   "execution_count": 1,
   "metadata": {},
   "outputs": [],
   "source": [
    "import time\n",
    "import datetime\n",
    "from bs4 import BeautifulSoup\n",
    "from selenium import webdriver\n",
    "import xlsxwriter\n",
    "import csv"
   ]
  },
  {
   "cell_type": "code",
   "execution_count": 63,
   "metadata": {},
   "outputs": [
    {
     "name": "stdout",
     "output_type": "stream",
     "text": [
      "2017-12-20\n",
      "2017-12-19\n"
     ]
    }
   ],
   "source": [
    "ts = time.time()\n",
    "realtime = datetime.datetime.fromtimestamp(ts).strftime('%Y-%m-%d')\n",
    "savedate = (datetime.date.today() - datetime.timedelta(1)).strftime('%Y-%m-%d')\n",
    "savetime = datetime.datetime.fromtimestamp(ts).strftime('%H:%M:%S')\n",
    "print(realtime)\n",
    "print(savedate)"
   ]
  },
  {
   "cell_type": "code",
   "execution_count": 67,
   "metadata": {},
   "outputs": [],
   "source": [
    "driver = webdriver.Chrome('./chromedriver')\n",
    "url = \"https://coinmarketcap.com/exchanges/volume/24-hour/all/\"\n",
    "time.sleep(2)"
   ]
  },
  {
   "cell_type": "code",
   "execution_count": 93,
   "metadata": {},
   "outputs": [],
   "source": [
    "id_list = []\n",
    "name_list = []\n",
    "currency_list = []\n",
    "base_list = []\n",
    "counter_list = []\n",
    "vol_dal_list = []\n",
    "price_list = []\n",
    "vol_per_list = []\n",
    "date_list = []\n",
    "count_id = 0\n",
    "# for click_num in range(len(select)):\n",
    "for click_num in range(1):\n",
    "    driver.get(url)\n",
    "    time.sleep(1)\n",
    "    select = driver.find_elements_by_xpath('//*[@class=\"volume-header\"]/a')\n",
    "    select[click_num].click()\n",
    "    time.sleep(0.3)\n",
    "    html = driver.page_source\n",
    "    soup = BeautifulSoup(html, 'html.parser')\n",
    "    all_ = soup.select('tbody tr td')\n",
    "    for num in range(len(all_)):\n",
    "        if num % 7 == 1:\n",
    "            name = soup.select('h1.text-large')\n",
    "            count_id = count_id + 1\n",
    "            id_list.append(int(count_id))\n",
    "            for i in name:\n",
    "                name_list.append(i.text)\n",
    "            date_list.append(realtime)\n",
    "        elif num % 7 == 2:\n",
    "            currency = soup.select('tbody tr td:nth-of-type('+str(num)+')')\n",
    "            for i in currency:\n",
    "                a = i.text\n",
    "                currency_list.append(a)\n",
    "        elif num % 7 == 3:\n",
    "            base_counter = soup.select('tbody tr td:nth-of-type('+str(num)+')')\n",
    "            for i in base_counter:\n",
    "                a = i.text\n",
    "                base_list.append(a.split('/')[0])\n",
    "                counter_list.append(a.split('/')[1])\n",
    "        elif num % 7 == 4:\n",
    "            volume_dal = soup.select('tbody tr td:nth-of-type('+str(num)+')')\n",
    "            for i in volume_dal:\n",
    "                text = i.text\n",
    "                vol_dal_list.append(text.replace('\\n','').replace('$',''))\n",
    "        elif num % 7 == 5:\n",
    "            price = soup.select('tbody tr td:nth-of-type('+str(num)+')')\n",
    "            for i in price:\n",
    "                text = i.text\n",
    "                price_list.append(text.replace('\\n','').replace('$',''))\n",
    "        elif num % 7 == 6:\n",
    "            volume_pre = soup.select('tbody tr td:nth-of-type('+str(num)+')')\n",
    "            for i in volume_pre:\n",
    "                vol_per_list.append(i.text)"
   ]
  },
  {
   "cell_type": "code",
   "execution_count": 95,
   "metadata": {},
   "outputs": [],
   "source": [
    "with open(savedate+\".csv\", 'w') as csvfile:\n",
    "    writer = csv.writer(csvfile, delimiter=',')\n",
    "    writer.writerow(['Id']+\n",
    "                    ['Name']+\n",
    "                    ['Currency']+\n",
    "                    ['Base']+\n",
    "                    ['Counter']+\n",
    "                    ['Volume($)']+\n",
    "                    ['Price($)']+\n",
    "                    ['Volume(%)']+\n",
    "                    ['Date'])\n",
    "    for i in range(len(date_list)):\n",
    "        writer.writerow([id_list[i]]+\n",
    "                    [name_list[i]]+\n",
    "                    [currency_list[i]]+\n",
    "                    [base_list[i]]+\n",
    "                    [counter_list[i]]+\n",
    "                    [vol_dal_list[i]]+\n",
    "                    [price_list[i]]+\n",
    "                    [vol_per_list[i]]+\n",
    "                    [date_list[i]])"
   ]
  },
  {
   "cell_type": "code",
   "execution_count": 94,
   "metadata": {},
   "outputs": [
    {
     "data": {
      "text/plain": [
       "['17,559.00',\n",
       " '3,168.00',\n",
       " '5.19',\n",
       " '3,191.60',\n",
       " '818.88',\n",
       " '10.97',\n",
       " '334.85',\n",
       " '5.24',\n",
       " '825.71',\n",
       " '17,557.80',\n",
       " '0.731590',\n",
       " '40.49',\n",
       " '428.32',\n",
       " '1,531.00',\n",
       " '18.61',\n",
       " '71.43',\n",
       " '337.69',\n",
       " '11.10',\n",
       " '432.28',\n",
       " '622.78',\n",
       " '1.00',\n",
       " '372.54',\n",
       " '1,543.89',\n",
       " '3,203.85',\n",
       " '0.735379',\n",
       " '59.98',\n",
       " '626.37',\n",
       " '40.86',\n",
       " '5.25',\n",
       " '11.12',\n",
       " '72.08',\n",
       " '377.24',\n",
       " '18.68',\n",
       " '0.265000',\n",
       " '4.28',\n",
       " '59.26',\n",
       " '4.82',\n",
       " '0.390730',\n",
       " '0.987990',\n",
       " '291.00',\n",
       " '3.38',\n",
       " '4.87',\n",
       " '0.993611',\n",
       " '4.89',\n",
       " '4.29',\n",
       " '18.47',\n",
       " '0.403644',\n",
       " '0.267974',\n",
       " '72.16',\n",
       " '303.80',\n",
       " '4.15',\n",
       " '58.53',\n",
       " '3.43',\n",
       " '0.268316',\n",
       " '4.30',\n",
       " '0.990209',\n",
       " '264.99',\n",
       " '4.24',\n",
       " '0.393730',\n",
       " '3.46',\n",
       " '4.37',\n",
       " '284.59',\n",
       " '17,534.30',\n",
       " '18,056.00']"
      ]
     },
     "execution_count": 94,
     "metadata": {},
     "output_type": "execute_result"
    }
   ],
   "source": [
    "price_list"
   ]
  },
  {
   "cell_type": "code",
   "execution_count": 83,
   "metadata": {},
   "outputs": [
    {
     "data": {
      "text/plain": [
       "64"
      ]
     },
     "execution_count": 83,
     "metadata": {},
     "output_type": "execute_result"
    }
   ],
   "source": [
    "len(name_list)"
   ]
  },
  {
   "cell_type": "code",
   "execution_count": null,
   "metadata": {},
   "outputs": [],
   "source": []
  }
 ],
 "metadata": {
  "kernelspec": {
   "display_name": "Python 3",
   "language": "python",
   "name": "python3"
  },
  "language_info": {
   "codemirror_mode": {
    "name": "ipython",
    "version": 3
   },
   "file_extension": ".py",
   "mimetype": "text/x-python",
   "name": "python",
   "nbconvert_exporter": "python",
   "pygments_lexer": "ipython3",
   "version": "3.6.3"
  }
 },
 "nbformat": 4,
 "nbformat_minor": 2
}
