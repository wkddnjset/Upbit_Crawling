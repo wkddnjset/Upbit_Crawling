{
 "cells": [
  {
   "cell_type": "code",
   "execution_count": 1,
   "metadata": {},
   "outputs": [],
   "source": [
    "import time\n",
    "import datetime\n",
    "from bs4 import BeautifulSoup\n",
    "from selenium import webdriver\n",
    "import xlsxwriter\n",
    "import csv"
   ]
  },
  {
   "cell_type": "code",
   "execution_count": 2,
   "metadata": {},
   "outputs": [
    {
     "data": {
      "text/plain": [
       "'2017-12-19'"
      ]
     },
     "execution_count": 2,
     "metadata": {},
     "output_type": "execute_result"
    }
   ],
   "source": [
    "ts = time.time()\n",
    "realtime = datetime.datetime.fromtimestamp(ts).strftime('%Y-%m-%d %H:%M:%S')\n",
    "savedate = (datetime.date.today() - datetime.timedelta(1)).strftime('%Y-%m-%d')\n",
    "savetime = datetime.datetime.fromtimestamp(ts).strftime('%H:%M:%S')\n",
    "savedate"
   ]
  },
  {
   "cell_type": "code",
   "execution_count": 60,
   "metadata": {},
   "outputs": [],
   "source": [
    "driver = webdriver.Chrome('./chromedriver')\n",
    "url = \"https://coinmarketcap.com/exchanges/volume/24-hour/all/\"\n",
    "time.sleep(2)\n",
    "driver.get(url)\n",
    "time.sleep(5)"
   ]
  },
  {
   "cell_type": "code",
   "execution_count": 61,
   "metadata": {},
   "outputs": [
    {
     "name": "stdout",
     "output_type": "stream",
     "text": [
      "175\n",
      "Bithumb\n"
     ]
    }
   ],
   "source": [
    "select = driver.find_elements_by_xpath('//*[@class=\"volume-header\"]/a')\n",
    "print(len(select))\n",
    "print(select[1].text)\n",
    "select[1].click()\n",
    "time.sleep(2)"
   ]
  },
  {
   "cell_type": "code",
   "execution_count": 63,
   "metadata": {},
   "outputs": [
    {
     "name": "stdout",
     "output_type": "stream",
     "text": [
      "BCH/KRW\n",
      "QTUM/KRW\n",
      "BTC/KRW\n",
      "BTG/KRW\n",
      "EOS/KRW\n",
      "ETC/KRW\n",
      "XRP/KRW\n",
      "ETH/KRW\n",
      "XMR/KRW\n",
      "LTC/KRW\n",
      "DASH/KRW\n",
      "ZEC/KRW\n"
     ]
    }
   ],
   "source": [
    "html = driver.page_source\n",
    "soup = BeautifulSoup(html, 'html.parser')\n",
    "# soup.select('h1.text-large')\n",
    "all_ = soup.select('tbody tr td')\n",
    "for num in range(len(all_)):\n",
    "    if num % 7 == 1:\n",
    "        id_num = soup.select('tbody tr td:nth-of-type('+str(num)+')')\n",
    "    elif num % 7 == 2:\n",
    "        currency = soup.select('tbody tr td:nth-of-type('+str(num)+')')\n",
    "    elif num % 7 == 3:\n",
    "        base_counter = soup.select('tbody tr td:nth-of-type('+str(num)+')')\n",
    "    elif num % 7 == 4:\n",
    "        volume_dal = soup.select('tbody tr td:nth-of-type('+str(num)+')')\n",
    "    elif num % 7 == 5:\n",
    "        price = soup.select('tbody tr td:nth-of-type('+str(num)+')')\n",
    "    elif num % 7 == 6:\n",
    "        volume_pre = soup.select('tbody tr td:nth-of-type('+str(num)+')')"
   ]
  },
  {
   "cell_type": "code",
   "execution_count": 56,
   "metadata": {},
   "outputs": [
    {
     "name": "stdout",
     "output_type": "stream",
     "text": [
      "\n",
      "$1,492,750,000\n",
      "\n"
     ]
    }
   ],
   "source": [
    "html = driver.page_source\n",
    "soup = BeautifulSoup(html, 'html.parser')\n",
    "a = soup.select('tbody tr td:nth-of-type(4)')\n",
    "for i in a:\n",
    "    print(i.text.split('/')[0])"
   ]
  },
  {
   "cell_type": "code",
   "execution_count": null,
   "metadata": {},
   "outputs": [],
   "source": []
  }
 ],
 "metadata": {
  "kernelspec": {
   "display_name": "Python 3",
   "language": "python",
   "name": "python3"
  },
  "language_info": {
   "codemirror_mode": {
    "name": "ipython",
    "version": 3
   },
   "file_extension": ".py",
   "mimetype": "text/x-python",
   "name": "python",
   "nbconvert_exporter": "python",
   "pygments_lexer": "ipython3",
   "version": "3.6.3"
  }
 },
 "nbformat": 4,
 "nbformat_minor": 2
}
