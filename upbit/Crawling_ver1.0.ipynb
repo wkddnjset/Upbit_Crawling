{
 "cells": [
  {
   "cell_type": "code",
   "execution_count": 34,
   "metadata": {},
   "outputs": [],
   "source": [
    "import time\n",
    "import datetime\n",
    "from bs4 import BeautifulSoup\n",
    "from selenium import webdriver\n",
    "import xlsxwriter"
   ]
  },
  {
   "cell_type": "code",
   "execution_count": 65,
   "metadata": {},
   "outputs": [
    {
     "data": {
      "text/plain": [
       "'23:37:32'"
      ]
     },
     "execution_count": 65,
     "metadata": {},
     "output_type": "execute_result"
    }
   ],
   "source": [
    "ts = time.time()\n",
    "realtime = datetime.datetime.fromtimestamp(ts).strftime('%Y-%m-%d %H:%M:%S')\n",
    "savedate = datetime.datetime.fromtimestamp(ts).strftime('%Y-%m-%d')\n",
    "savetime = datetime.datetime.fromtimestamp(ts).strftime('%H:%M:%S')\n",
    "savetime"
   ]
  },
  {
   "cell_type": "code",
   "execution_count": 36,
   "metadata": {},
   "outputs": [],
   "source": [
    "driver = webdriver.Chrome('./chromedriver')\n",
    "url = \"https://www.upbit.com/exchange?code=CRIX.UPBIT.KRW-BTC\"\n",
    "time.sleep(2)\n",
    "driver.get(url)\n",
    "time.sleep(5)"
   ]
  },
  {
   "cell_type": "code",
   "execution_count": 37,
   "metadata": {},
   "outputs": [],
   "source": [
    "select = driver.find_elements_by_xpath('//*[@class=\"ty05\"]/li')\n",
    "coin_list = []\n",
    "base_list = []\n",
    "counter_list = []\n",
    "cropto_list = []\n",
    "price_list = []\n",
    "percent_list = []\n",
    "rAlign_list = []\n",
    "for i in range(4):\n",
    "    select[i].click()\n",
    "    time.sleep(0.5)\n",
    "    html = driver.page_source\n",
    "    soup = BeautifulSoup(html, 'html.parser')\n",
    "    titles = soup.select('td.tit a')\n",
    "    codes = soup.select('td.tit em')\n",
    "    croptos = soup.select('td.price strong')\n",
    "    prices = soup.select('td.price em')\n",
    "    percents = soup.select('td.percent')\n",
    "    rAligns = soup.select('table.highlight td.rAlign')\n",
    "    for title in titles:\n",
    "        coin_list.append(title.text)\n",
    "    for code in codes:\n",
    "        a = code.text\n",
    "        base_list.append(a.split('/')[0])\n",
    "        counter_list.append(a.split('/')[1])\n",
    "    if i == 0:\n",
    "        for cropto in croptos:\n",
    "            price_list.append(cropto.text)\n",
    "    else:\n",
    "        for cropto in croptos:\n",
    "            cropto_list.append(cropto.text)\n",
    "        for price in prices:\n",
    "            price_list.append(price.text)\n",
    "    for percent in percents:\n",
    "        percent_list.append(percent.text)\n",
    "    for rAlign in rAligns:\n",
    "        rAlign_list.append(rAlign.text)"
   ]
  },
  {
   "cell_type": "code",
   "execution_count": 56,
   "metadata": {},
   "outputs": [],
   "source": [
    "workbook = xlsxwriter.Workbook('./Output/'+savedate+'.xlsx')\n",
    "time.sleep(0.1)\n",
    "worksheet = workbook.add_worksheet()\n",
    "worksheet.set_column('A:A', 20)\n",
    "worksheet.set_column('B:B', 20)\n",
    "worksheet.set_column('C:C', 20)\n",
    "worksheet.set_column('D:D', 20)\n",
    "worksheet.set_column('E:E', 20)\n",
    "worksheet.set_column('F:F', 20)\n",
    "worksheet.set_column('G:G', 20)\n",
    "worksheet.set_column('H:H', 20)\n",
    "time.sleep(0.1)\n",
    "bold = workbook.add_format({'bold': True})\n",
    "worksheet.write('A1', '날짜', bold)\n",
    "worksheet.write('B1', '코인명', bold)\n",
    "worksheet.write('C1', 'Base', bold)\n",
    "worksheet.write('D1', 'Counter', bold)\n",
    "worksheet.write('E1', '현재가(Crypto)', bold)\n",
    "worksheet.write('F1', '현재가(KRW)', bold)\n",
    "worksheet.write('G1', '전일대비', bold)\n",
    "worksheet.write('H1', '거래대금', bold)\n",
    "time.sleep(0.1)\n"
   ]
  },
  {
   "cell_type": "code",
   "execution_count": 57,
   "metadata": {},
   "outputs": [],
   "source": [
    "for num in range(len(coin_list)):\n",
    "    i = num+1\n",
    "    worksheet.write(i, 0, realtime)\n",
    "    worksheet.write(i, 1, coin_list[num])\n",
    "    worksheet.write(i, 2, base_list[num])\n",
    "    worksheet.write(i, 3, counter_list[num])\n",
    "    worksheet.write(i, 5, price_list[num])\n",
    "    worksheet.write(i, 6, percent_list[num])\n",
    "    worksheet.write(i, 7, rAlign_list[num])\n",
    "    time.sleep(0.05)\n",
    "num_cro = len(price_list)-len(cropto_list)\n",
    "for num in range(len(cropto_list)):\n",
    "    worksheet.write(num_cro, 4, cropto_list[num])\n",
    "    num_cro = num_cro+1\n",
    "    time.sleep(0.05)"
   ]
  },
  {
   "cell_type": "code",
   "execution_count": 81,
   "metadata": {},
   "outputs": [
    {
     "name": "stdout",
     "output_type": "stream",
     "text": [
      "23:41:17\n",
      "23:41:18\n",
      "23:41:19\n",
      "23:41:20\n",
      "23:41:21\n",
      "23:41:22\n",
      "23:41:23\n",
      "23:41:24\n",
      "23:41:25\n",
      "23:41:26\n",
      "23:41:27\n",
      "23:41:28\n",
      "23:41:29\n",
      "23:41:30\n",
      "d\n",
      "23:41:31\n",
      "23:41:32\n",
      "23:41:33\n",
      "23:41:34\n",
      "23:41:35\n"
     ]
    },
    {
     "ename": "KeyboardInterrupt",
     "evalue": "",
     "traceback": [
      "\u001b[1;31m---------------------------------------------------------------------------\u001b[0m",
      "\u001b[1;31mKeyboardInterrupt\u001b[0m                         Traceback (most recent call last)",
      "\u001b[1;32m<ipython-input-81-93ed0362c040>\u001b[0m in \u001b[0;36m<module>\u001b[1;34m()\u001b[0m\n\u001b[0;32m      5\u001b[0m     \u001b[0msavetime\u001b[0m \u001b[1;33m=\u001b[0m \u001b[0mdatetime\u001b[0m\u001b[1;33m.\u001b[0m\u001b[0mdatetime\u001b[0m\u001b[1;33m.\u001b[0m\u001b[0mfromtimestamp\u001b[0m\u001b[1;33m(\u001b[0m\u001b[0mts\u001b[0m\u001b[1;33m)\u001b[0m\u001b[1;33m.\u001b[0m\u001b[0mstrftime\u001b[0m\u001b[1;33m(\u001b[0m\u001b[1;34m'%H:%M:%S'\u001b[0m\u001b[1;33m)\u001b[0m\u001b[1;33m\u001b[0m\u001b[0m\n\u001b[0;32m      6\u001b[0m     \u001b[0mprint\u001b[0m\u001b[1;33m(\u001b[0m\u001b[0msavetime\u001b[0m\u001b[1;33m)\u001b[0m\u001b[1;33m\u001b[0m\u001b[0m\n\u001b[1;32m----> 7\u001b[1;33m     \u001b[0mtime\u001b[0m\u001b[1;33m.\u001b[0m\u001b[0msleep\u001b[0m\u001b[1;33m(\u001b[0m\u001b[1;36m1\u001b[0m\u001b[1;33m)\u001b[0m\u001b[1;33m\u001b[0m\u001b[0m\n\u001b[0m\u001b[0;32m      8\u001b[0m     \u001b[1;32mif\u001b[0m \u001b[0msavetime\u001b[0m \u001b[1;33m==\u001b[0m \u001b[1;34m\"23:41:30\"\u001b[0m\u001b[1;33m:\u001b[0m\u001b[1;33m\u001b[0m\u001b[0m\n\u001b[0;32m      9\u001b[0m         \u001b[0mprint\u001b[0m\u001b[1;33m(\u001b[0m\u001b[1;34m'd'\u001b[0m\u001b[1;33m)\u001b[0m\u001b[1;33m\u001b[0m\u001b[0m\n",
      "\u001b[1;31mKeyboardInterrupt\u001b[0m: "
     ],
     "output_type": "error"
    }
   ],
   "source": [
    "while(1):\n",
    "    ts = time.time()\n",
    "    realtime = datetime.datetime.fromtimestamp(ts).strftime('%Y-%m-%d %H:%M:%S')\n",
    "    savedate = datetime.datetime.fromtimestamp(ts).strftime('%Y-%m-%d')\n",
    "    savetime = datetime.datetime.fromtimestamp(ts).strftime('%H:%M:%S')\n",
    "    print(savetime)\n",
    "    time.sleep(1)\n",
    "    if savetime == \"23:41:30\":\n",
    "        print('d')\n",
    "    else:\n",
    "        continue"
   ]
  },
  {
   "cell_type": "code",
   "execution_count": null,
   "metadata": {},
   "outputs": [],
   "source": []
  },
  {
   "cell_type": "code",
   "execution_count": null,
   "metadata": {},
   "outputs": [],
   "source": []
  }
 ],
 "metadata": {
  "kernelspec": {
   "display_name": "Python 3",
   "language": "python",
   "name": "python3"
  },
  "language_info": {
   "codemirror_mode": {
    "name": "ipython",
    "version": 3
   },
   "file_extension": ".py",
   "mimetype": "text/x-python",
   "name": "python",
   "nbconvert_exporter": "python",
   "pygments_lexer": "ipython3",
   "version": "3.6.3"
  }
 },
 "nbformat": 4,
 "nbformat_minor": 2
}
