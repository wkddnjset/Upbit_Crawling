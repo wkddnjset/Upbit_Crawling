{
 "cells": [
  {
   "cell_type": "code",
   "execution_count": 10,
   "metadata": {},
   "outputs": [],
   "source": [
    "import time\n",
    "import datetime\n",
    "from bs4 import BeautifulSoup\n",
    "from selenium import webdriver\n",
    "import xlsxwriter"
   ]
  },
  {
   "cell_type": "code",
   "execution_count": 58,
   "metadata": {},
   "outputs": [
    {
     "data": {
      "text/plain": [
       "'2017-12-19'"
      ]
     },
     "execution_count": 58,
     "metadata": {},
     "output_type": "execute_result"
    }
   ],
   "source": [
    "ts = time.time()\n",
    "realtime = datetime.datetime.fromtimestamp(ts).strftime('%Y-%m-%d %H:%M:%S')\n",
    "savedate = datetime.datetime.fromtimestamp(ts).strftime('%Y-%m-%d')\n",
    "savedate"
   ]
  },
  {
   "cell_type": "code",
   "execution_count": 60,
   "metadata": {},
   "outputs": [],
   "source": [
    "driver = webdriver.Chrome('./chromedriver')\n",
    "url = \"https://www.upbit.com/exchange?code=CRIX.UPBIT.KRW-BTC\"\n",
    "time.sleep(3)"
   ]
  },
  {
   "cell_type": "code",
   "execution_count": 61,
   "metadata": {},
   "outputs": [],
   "source": [
    "driver.get(url)\n",
    "time.sleep(5)\n",
    "# driver.find_element_by_xpath('//*[@class=\"bookmark\"]/a').click()"
   ]
  },
  {
   "cell_type": "code",
   "execution_count": 62,
   "metadata": {},
   "outputs": [],
   "source": [
    "select = driver.find_elements_by_xpath('//*[@class=\"ty05\"]/li')\n",
    "count = 0\n",
    "select[count].click()\n",
    "# for a in select:\n",
    "#     a.click()\n",
    "#     html = driver.page_source\n",
    "#     soup = BeautifulSoup(html, 'html.parser')"
   ]
  },
  {
   "cell_type": "code",
   "execution_count": 63,
   "metadata": {},
   "outputs": [],
   "source": [
    "html = driver.page_source\n",
    "soup = BeautifulSoup(html, 'html.parser')"
   ]
  },
  {
   "cell_type": "code",
   "execution_count": 80,
   "metadata": {},
   "outputs": [],
   "source": [
    "titles = soup.select('td.tit a')\n",
    "codes = soup.select('td.tit em')\n",
    "croptos = soup.select('td.price strong')\n",
    "prices = soup.select('td.price em')\n",
    "percents = soup.select('td.percent')\n",
    "rAligns = soup.select('table.highlight td.rAlign')\n",
    "coin_list = []\n",
    "base_list = []\n",
    "counter_list = []\n",
    "cropto_list = []\n",
    "price_list = []\n",
    "percent_list = []\n",
    "rAlign_list = []"
   ]
  },
  {
   "cell_type": "code",
   "execution_count": 81,
   "metadata": {},
   "outputs": [],
   "source": [
    "for title in titles:\n",
    "    coin_list.append(title.text)\n",
    "for code in codes:\n",
    "    a = code.text\n",
    "    base_list.append(a.split('/')[0])\n",
    "    counter_list.append(a.split('/')[1])\n",
    "for cropto in croptos:\n",
    "    cropto_list.append(cropto.text)\n",
    "for price in prices:\n",
    "    price_list.append(price.text)\n",
    "for percent in percents:\n",
    "    percent_list.append(percent.text)\n",
    "for rAlign in rAligns:\n",
    "    rAlign_list.append(rAlign.text)"
   ]
  },
  {
   "cell_type": "code",
   "execution_count": 98,
   "metadata": {},
   "outputs": [],
   "source": [
    "workbook = xlsxwriter.Workbook('./Output/'+savedate+'.xlsx')\n",
    "time.sleep(0.5)\n",
    "worksheet = workbook.add_worksheet()\n",
    "worksheet.set_column('A:A', 20)\n",
    "worksheet.set_column('B:B', 20)\n",
    "worksheet.set_column('C:C', 20)\n",
    "worksheet.set_column('D:D', 20)\n",
    "worksheet.set_column('E:E', 20)\n",
    "worksheet.set_column('F:F', 20)\n",
    "worksheet.set_column('G:G', 20)\n",
    "worksheet.set_column('H:H', 20)\n",
    "time.sleep(0.5)\n",
    "bold = workbook.add_format({'bold': True})\n",
    "worksheet.write('A1', '날짜', bold)\n",
    "worksheet.write('B1', '코인명', bold)\n",
    "worksheet.write('C1', 'Base', bold)\n",
    "worksheet.write('D1', 'Counter', bold)\n",
    "worksheet.write('E1', '현재가(Crypto)', bold)\n",
    "worksheet.write('F1', '현재가(KRW)', bold)\n",
    "worksheet.write('G1', '전일대비', bold)\n",
    "worksheet.write('H1', '거래대금', bold)\n",
    "time.sleep(0.5)\n",
    "for num in range(len(coin_list)):\n",
    "    \n"
   ]
  },
  {
   "cell_type": "code",
   "execution_count": 99,
   "metadata": {},
   "outputs": [
    {
     "data": {
      "text/plain": [
       "35"
      ]
     },
     "execution_count": 99,
     "metadata": {},
     "output_type": "execute_result"
    }
   ],
   "source": [
    "len(rAlign_list)"
   ]
  },
  {
   "cell_type": "code",
   "execution_count": null,
   "metadata": {},
   "outputs": [],
   "source": []
  },
  {
   "cell_type": "code",
   "execution_count": null,
   "metadata": {},
   "outputs": [],
   "source": []
  },
  {
   "cell_type": "code",
   "execution_count": null,
   "metadata": {},
   "outputs": [],
   "source": []
  }
 ],
 "metadata": {
  "kernelspec": {
   "display_name": "Python 3",
   "language": "python",
   "name": "python3"
  },
  "language_info": {
   "codemirror_mode": {
    "name": "ipython",
    "version": 3
   },
   "file_extension": ".py",
   "mimetype": "text/x-python",
   "name": "python",
   "nbconvert_exporter": "python",
   "pygments_lexer": "ipython3",
   "version": "3.6.3"
  }
 },
 "nbformat": 4,
 "nbformat_minor": 2
}
